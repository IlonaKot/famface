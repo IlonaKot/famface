{
 "cells": [
  {
   "cell_type": "code",
   "execution_count": null,
   "metadata": {
    "collapsed": true,
    "deletable": true,
    "editable": true
   },
   "outputs": [],
   "source": [
    "from mvpa2.suite import *\n",
    "import pandas as pd\n",
    "import matplotlib.pyplot as plt\n",
    "import seaborn as sns\n",
    "import numpy as np\n",
    "from itertools import product, combinations\n",
    "from numpy.testing import assert_array_equal"
   ]
  },
  {
   "cell_type": "code",
   "execution_count": 2,
   "metadata": {
    "collapsed": true,
    "deletable": true,
    "editable": true
   },
   "outputs": [],
   "source": [
    "%matplotlib inline"
   ]
  },
  {
   "cell_type": "markdown",
   "metadata": {
    "deletable": true,
    "editable": true
   },
   "source": [
    "# Some functions to filter matrices and to compute averages of that matrices"
   ]
  },
  {
   "cell_type": "code",
   "execution_count": 3,
   "metadata": {
    "collapsed": false,
    "deletable": true,
    "editable": true
   },
   "outputs": [],
   "source": [
    "def compute_within_between_mean(mat, wanted_labels, labels):\n",
    "    assert(mat.shape[0] == mat.shape[1])\n",
    "    assert(len(labels) == mat.shape[0])\n",
    "    \n",
    "    mask_labels = [True if lbl in wanted_labels else False for lbl in labels]\n",
    "\n",
    "    # XXX: this assumes that the matrices are NOT symmetric, but it\n",
    "    # should work anyway with symmetric matrices, since we're taking\n",
    "    # the average\n",
    "    # take mask within areas, without diagonal\n",
    "    mask_mat_within = np.zeros(mat.shape, dtype=bool)\n",
    "    mask_mat_within[np.ix_(mask_labels, mask_labels)] = True\n",
    "    np.fill_diagonal(mask_mat_within, False)\n",
    "    mean_within = mat[mask_mat_within].mean()\n",
    "\n",
    "    # take mask between areas\n",
    "    mask_mat_between = np.zeros(mat.shape, dtype=bool)\n",
    "    mask_mat_between[np.ix_(mask_labels, np.logical_not(mask_labels))] = True\n",
    "    mask_mat_between[np.ix_(np.logical_not(mask_labels), mask_labels)] = True\n",
    "    mean_between = mat[mask_mat_between].mean()\n",
    "    \n",
    "    return (mean_within, mean_between)"
   ]
  },
  {
   "cell_type": "code",
   "execution_count": 4,
   "metadata": {
    "collapsed": false,
    "deletable": true,
    "editable": true
   },
   "outputs": [],
   "source": [
    "def filter_matrix(mat, wanted_labels, labels):\n",
    "    assert(mat.shape[0] == mat.shape[1])\n",
    "    assert(len(labels) == mat.shape[0])\n",
    "    mask_labels = [True if lbl in wanted_labels else False for lbl in labels]\n",
    "    subset_labels = filter(lambda x: x in wanted_labels, labels)\n",
    "    return pd.DataFrame(mat[np.ix_(mask_labels, mask_labels)], index=subset_labels, columns=subset_labels)"
   ]
  },
  {
   "cell_type": "code",
   "execution_count": 5,
   "metadata": {
    "collapsed": false,
    "deletable": true,
    "editable": true
   },
   "outputs": [],
   "source": [
    "# save correlations within/between across core and extended systems\n",
    "def compute_correlations(mean_rdms, systems_to_compute, labels):\n",
    "    systems_correlations = dict()\n",
    "    for system in systems_to_compute:\n",
    "        corrs = []\n",
    "        wanted_labels = systems[system]\n",
    "        for rdm in mean_rdms:\n",
    "            corrs.append(compute_within_between_mean(rdm.values, wanted_labels, labels))\n",
    "        corrs = pd.DataFrame(np.asarray(corrs), columns=['within', 'between'])\n",
    "        systems_correlations[system] = corrs\n",
    "    return systems_correlations"
   ]
  },
  {
   "cell_type": "code",
   "execution_count": 6,
   "metadata": {
    "collapsed": false,
    "deletable": true,
    "editable": true
   },
   "outputs": [],
   "source": [
    "# let's make a dictionary containing infos on the different systems\n",
    "systems = {\n",
    "    'early_visual': ['EV1 - L', 'EV1 - R', 'EV2 - L', 'EV2 - R'],\n",
    "    'precuneus': ['dPreCun - L', 'dPreCun - R',\n",
    "                  'mPreCun - L', 'mPreCun - R',\n",
    "                  'vPreCun - L', 'vPreCun - R'],\n",
    "    'dorsal_core': ['pMTG - L', 'pMTG - R',\n",
    "                    'mMTG - L', 'mMTG - R',\n",
    "                    'aMTG - L', 'aMTG - R'],\n",
    "    'ventral_core': ['OccFus - L', 'OccFus - R',\n",
    "                     'pFus - L', 'pFus - R',\n",
    "                     'mFus - L', 'mFus - R',\n",
    "                     'aFus - R'],\n",
    "    'anterior_core': ['IFG1 - L', 'IFG2 - L', 'IFG2 - R'],\n",
    "    'theory_of_mind': [ 'TPJ - L', 'TPJ - R', 'MPFC - L', 'MPFC - R']\n",
    "}\n",
    "\n",
    "systems['core'] = systems['dorsal_core'] + systems['ventral_core'] + systems['anterior_core']\n",
    "systems['extended'] = systems['precuneus'] + systems['theory_of_mind']\n",
    "systems['core+extended'] = systems['core'] + systems['extended']"
   ]
  },
  {
   "cell_type": "markdown",
   "metadata": {
    "deletable": true,
    "editable": true
   },
   "source": [
    "# First using Raiders"
   ]
  },
  {
   "cell_type": "code",
   "execution_count": 7,
   "metadata": {
    "collapsed": true,
    "deletable": true,
    "editable": true
   },
   "outputs": [],
   "source": [
    "part1 = h5load('raidershpal_rdm_level2_part1.hdf5')\n",
    "part2 = h5load('raidershpal_rdm_level2_part2.hdf5')"
   ]
  },
  {
   "cell_type": "code",
   "execution_count": 8,
   "metadata": {
    "collapsed": true,
    "deletable": true,
    "editable": true
   },
   "outputs": [],
   "source": [
    "labels = pd.read_csv('roi_coord.csv')['Abbreviation'].tolist()"
   ]
  },
  {
   "cell_type": "code",
   "execution_count": 9,
   "metadata": {
    "collapsed": false,
    "deletable": true,
    "editable": true
   },
   "outputs": [
    {
     "data": {
      "text/plain": [
       "True"
      ]
     },
     "execution_count": 9,
     "metadata": {},
     "output_type": "execute_result"
    }
   ],
   "source": [
    "len(part1) == len(part2)"
   ]
  },
  {
   "cell_type": "code",
   "execution_count": 10,
   "metadata": {
    "collapsed": true,
    "deletable": true,
    "editable": true
   },
   "outputs": [],
   "source": [
    "# they are in order, so we can average them right away\n",
    "mean_rdms = [(np.arctanh(p1) + np.arctanh(p2))/2 for p1, p2 in zip(part1, part2)]"
   ]
  },
  {
   "cell_type": "code",
   "execution_count": 11,
   "metadata": {
    "collapsed": false,
    "deletable": true,
    "editable": true
   },
   "outputs": [],
   "source": [
    "# make them symmetric and also normalize them by the diagonal\n",
    "mean_rdms_norm = []\n",
    "for rdm in mean_rdms:\n",
    "    tmp = rdm.copy()\n",
    "    tmp += rdm.T\n",
    "    tmp /= 2\n",
    "    \n",
    "    # go back to correlation\n",
    "    tmp = np.tanh(tmp)\n",
    "    # normalize by noise values, as in Guntupalli et al., 2016\n",
    "    diag = np.diag(tmp).reshape((1, -1))\n",
    "    sqrt_diag = np.sqrt((diag * diag.T))\n",
    "    tmp /= sqrt_diag\n",
    "    mean_rdms_norm.append(tmp)"
   ]
  },
  {
   "cell_type": "code",
   "execution_count": 12,
   "metadata": {
    "collapsed": false,
    "deletable": true,
    "editable": true
   },
   "outputs": [],
   "source": [
    "# save a pandas dataframe with all the data in there\n",
    "# since we're taking only the upper triangular matrix, let's make sure we're assigning\n",
    "# the right labels\n",
    "pairs = list(product(labels, labels))\n",
    "pairs_mat = np.array([' + '.join(p) for p in pairs]).reshape((len(labels), -1))\n",
    "\n",
    "pairs_mat_triu = pairs_mat[np.triu_indices_from(pairs_mat, k=1)]\n",
    "mean_rdms_triu = [r[np.triu_indices_from(r, k=1)] for r in mean_rdms_norm]\n",
    "\n",
    "# make also a \"system\" label\n",
    "label2system = dict()\n",
    "for key, value in systems.iteritems():\n",
    "    if key in ['core', 'extended', 'core+extended']:\n",
    "        continue\n",
    "    else:\n",
    "        for lbl in value:\n",
    "            label2system[lbl] = key\n",
    "        \n",
    "pairs_system = [(label2system[p1], label2system[p2]) for p1, p2 in pairs]\n",
    "pairs_system_mat = np.array(['+'.join(p) for p in pairs_system]).reshape((len(labels), -1))\n",
    "pairs_system_mat_triu = pairs_system_mat[np.triu_indices_from(pairs_system_mat, k=1)]\n",
    "\n",
    "npairs = len(pairs_mat_triu)\n",
    "subj_pairs = ['+'.join(c) for c in combinations(['sub{0:02}'.format(i) for i in range(1, 12)], 2)]\n",
    "nsubj_pairs = len(subj_pairs)\n",
    "data = {\n",
    "    'corr': np.hstack(mean_rdms_triu),\n",
    "    'subj': np.repeat(subj_pairs, npairs),\n",
    "    'rois': np.tile(pairs_mat_triu, nsubj_pairs),\n",
    "    'systems': np.tile(pairs_system_mat_triu, nsubj_pairs)\n",
    "}\n",
    "\n",
    "df_hpal = pd.DataFrame(data, columns=['subj', 'rois', 'systems', 'corr'])"
   ]
  },
  {
   "cell_type": "code",
   "execution_count": 13,
   "metadata": {
    "collapsed": false,
    "deletable": true,
    "editable": true
   },
   "outputs": [
    {
     "data": {
      "text/html": [
       "<div>\n",
       "<table border=\"1\" class=\"dataframe\">\n",
       "  <thead>\n",
       "    <tr style=\"text-align: right;\">\n",
       "      <th></th>\n",
       "      <th>subj</th>\n",
       "      <th>rois</th>\n",
       "      <th>systems</th>\n",
       "      <th>corr</th>\n",
       "    </tr>\n",
       "  </thead>\n",
       "  <tbody>\n",
       "    <tr>\n",
       "      <th>0</th>\n",
       "      <td>sub01+sub02</td>\n",
       "      <td>EV1 - L + EV1 - R</td>\n",
       "      <td>early_visual+early_visual</td>\n",
       "      <td>0.430905</td>\n",
       "    </tr>\n",
       "    <tr>\n",
       "      <th>1</th>\n",
       "      <td>sub01+sub02</td>\n",
       "      <td>EV1 - L + EV2 - L</td>\n",
       "      <td>early_visual+early_visual</td>\n",
       "      <td>0.553327</td>\n",
       "    </tr>\n",
       "    <tr>\n",
       "      <th>2</th>\n",
       "      <td>sub01+sub02</td>\n",
       "      <td>EV1 - L + EV2 - R</td>\n",
       "      <td>early_visual+early_visual</td>\n",
       "      <td>0.414231</td>\n",
       "    </tr>\n",
       "    <tr>\n",
       "      <th>3</th>\n",
       "      <td>sub01+sub02</td>\n",
       "      <td>EV1 - L + OccFus - L</td>\n",
       "      <td>early_visual+ventral_core</td>\n",
       "      <td>0.303334</td>\n",
       "    </tr>\n",
       "    <tr>\n",
       "      <th>4</th>\n",
       "      <td>sub01+sub02</td>\n",
       "      <td>EV1 - L + OccFus - R</td>\n",
       "      <td>early_visual+ventral_core</td>\n",
       "      <td>0.296197</td>\n",
       "    </tr>\n",
       "  </tbody>\n",
       "</table>\n",
       "</div>"
      ],
      "text/plain": [
       "          subj                  rois                    systems      corr\n",
       "0  sub01+sub02     EV1 - L + EV1 - R  early_visual+early_visual  0.430905\n",
       "1  sub01+sub02     EV1 - L + EV2 - L  early_visual+early_visual  0.553327\n",
       "2  sub01+sub02     EV1 - L + EV2 - R  early_visual+early_visual  0.414231\n",
       "3  sub01+sub02  EV1 - L + OccFus - L  early_visual+ventral_core  0.303334\n",
       "4  sub01+sub02  EV1 - L + OccFus - R  early_visual+ventral_core  0.296197"
      ]
     },
     "execution_count": 13,
     "metadata": {},
     "output_type": "execute_result"
    }
   ],
   "source": [
    "df_hpal.head()"
   ]
  },
  {
   "cell_type": "code",
   "execution_count": 14,
   "metadata": {
    "collapsed": false,
    "deletable": true,
    "editable": true
   },
   "outputs": [],
   "source": [
    "df_hpal.to_csv('hpal_pairwise_corr.csv', index=False)"
   ]
  },
  {
   "cell_type": "code",
   "execution_count": 15,
   "metadata": {
    "collapsed": true,
    "deletable": true,
    "editable": true
   },
   "outputs": [],
   "source": [
    "# remove early visual\n",
    "mean_rdms_norm_noev = [filter_matrix(rdm, systems['core+extended'], labels) for rdm in mean_rdms_norm]"
   ]
  },
  {
   "cell_type": "code",
   "execution_count": 16,
   "metadata": {
    "collapsed": false,
    "deletable": true,
    "editable": true
   },
   "outputs": [],
   "source": [
    "labels_noev = mean_rdms_norm_noev[0].columns.tolist()"
   ]
  },
  {
   "cell_type": "code",
   "execution_count": 17,
   "metadata": {
    "collapsed": true,
    "deletable": true,
    "editable": true
   },
   "outputs": [],
   "source": [
    "systems_to_compute = ['core', 'extended']"
   ]
  },
  {
   "cell_type": "code",
   "execution_count": 18,
   "metadata": {
    "collapsed": false,
    "deletable": true,
    "editable": true
   },
   "outputs": [],
   "source": [
    "correlations_all = compute_correlations(mean_rdms_norm_noev, systems_to_compute, labels_noev)"
   ]
  },
  {
   "cell_type": "code",
   "execution_count": 19,
   "metadata": {
    "collapsed": false,
    "deletable": true,
    "editable": true
   },
   "outputs": [],
   "source": [
    "for key, df in correlations_all.iteritems():\n",
    "    df.to_csv('{0}_hpal_withinbetween_correlations.csv'.format(key), index=False)"
   ]
  },
  {
   "cell_type": "markdown",
   "metadata": {
    "deletable": true,
    "editable": true
   },
   "source": [
    "## Now do the same within each main system"
   ]
  },
  {
   "cell_type": "code",
   "execution_count": 20,
   "metadata": {
    "collapsed": false,
    "deletable": true,
    "editable": true
   },
   "outputs": [],
   "source": [
    "mean_rdms_norm_core = [filter_matrix(rdm.values, systems['core'], labels_noev) for rdm in mean_rdms_norm_noev]\n",
    "\n",
    "systems_to_compute = ['dorsal_core', 'ventral_core', 'anterior_core']\n",
    "correlations_core = compute_correlations(mean_rdms_norm_core, systems_to_compute, mean_rdms_norm_core[0].columns.tolist())\n",
    "\n",
    "for key, df in correlations_core.iteritems():\n",
    "    df.to_csv('{0}-withincore_hpal_withinbetween_correlations.csv'.format(key), index=False)"
   ]
  },
  {
   "cell_type": "code",
   "execution_count": 21,
   "metadata": {
    "collapsed": false,
    "deletable": true,
    "editable": true
   },
   "outputs": [],
   "source": [
    "mean_rdms_norm_ext = [filter_matrix(rdm.values, systems['extended'], labels_noev) for rdm in mean_rdms_norm_noev]\n",
    "\n",
    "systems_to_compute = ['theory_of_mind', 'precuneus']\n",
    "correlations_ext = compute_correlations(mean_rdms_norm_ext, systems_to_compute, mean_rdms_norm_ext[0].columns.tolist())\n",
    "\n",
    "for key, df in correlations_ext.iteritems():\n",
    "    df.to_csv('{0}-withinext_hpal_withinbetween_correlations.csv'.format(key), index=False)"
   ]
  },
  {
   "cell_type": "markdown",
   "metadata": {
    "deletable": true,
    "editable": true
   },
   "source": [
    "# Do the same for the task data"
   ]
  },
  {
   "cell_type": "code",
   "execution_count": 22,
   "metadata": {
    "collapsed": true,
    "deletable": true,
    "editable": true
   },
   "outputs": [],
   "source": [
    "task_data = h5load('taskdata_rdm_level2.hdf5')"
   ]
  },
  {
   "cell_type": "code",
   "execution_count": 23,
   "metadata": {
    "collapsed": false,
    "deletable": true,
    "editable": true
   },
   "outputs": [],
   "source": [
    "assert_array_equal(task_data[0].sa.targets, task_data[0].fa.roi)"
   ]
  },
  {
   "cell_type": "code",
   "execution_count": 24,
   "metadata": {
    "collapsed": true,
    "deletable": true,
    "editable": true
   },
   "outputs": [],
   "source": [
    "labels_task = task_data[0].sa.targets"
   ]
  },
  {
   "cell_type": "markdown",
   "metadata": {
    "deletable": true,
    "editable": true
   },
   "source": [
    "These are per subject distance matrices"
   ]
  },
  {
   "cell_type": "code",
   "execution_count": 25,
   "metadata": {
    "collapsed": false,
    "deletable": true,
    "editable": true
   },
   "outputs": [
    {
     "data": {
      "text/plain": [
       "(33, (30, 30), <Dataset: 30x30@float64, <sa: centers,targets>, <fa: roi>>)"
      ]
     },
     "execution_count": 25,
     "metadata": {},
     "output_type": "execute_result"
    }
   ],
   "source": [
    "len(task_data), task_data[0].shape, task_data[0]"
   ]
  },
  {
   "cell_type": "code",
   "execution_count": 26,
   "metadata": {
    "collapsed": false,
    "deletable": true,
    "editable": true
   },
   "outputs": [],
   "source": [
    "# these are distances, not correlations, so go back to correlation \n",
    "task_data = [1. - rdm.samples for rdm in task_data]"
   ]
  },
  {
   "cell_type": "code",
   "execution_count": 27,
   "metadata": {
    "collapsed": true,
    "deletable": true,
    "editable": true
   },
   "outputs": [],
   "source": [
    "# save a pandas dataframe with all the data in there\n",
    "# since we're taking only the upper triangular matrix, let's make sure we're assigning\n",
    "# the right labels\n",
    "pairs = list(product(labels_task, labels_task))\n",
    "pairs_mat = np.array([' + '.join(p) for p in pairs]).reshape((len(labels_task), -1))\n",
    "\n",
    "pairs_mat_triu = pairs_mat[np.triu_indices_from(pairs_mat, k=1)]\n",
    "task_data_triu = [r[np.triu_indices_from(r, k=1)] for r in task_data]\n",
    "\n",
    "# make also a \"system\" label\n",
    "label2system = dict()\n",
    "for key, value in systems.iteritems():\n",
    "    if key in ['core', 'extended', 'core+extended']:\n",
    "        continue\n",
    "    else:\n",
    "        for lbl in value:\n",
    "            label2system[lbl] = key\n",
    "        \n",
    "pairs_system = [(label2system[p1], label2system[p2]) for p1, p2 in pairs]\n",
    "pairs_system_mat = np.array(['+'.join(p) for p in pairs_system]).reshape((len(labels), -1))\n",
    "pairs_system_mat_triu = pairs_system_mat[np.triu_indices_from(pairs_system_mat, k=1)]\n",
    "\n",
    "npairs = len(pairs_mat_triu)\n",
    "subj = ['sub{0:02}'.format(i) for i in range(1, 34)]\n",
    "nsubj = len(subj)\n",
    "data_task = {\n",
    "    'corr': np.hstack(task_data_triu),\n",
    "    'subj': np.repeat(subj, npairs),\n",
    "    'rois': np.tile(pairs_mat_triu, nsubj),\n",
    "    'systems': np.tile(pairs_system_mat_triu, nsubj)\n",
    "}\n",
    "\n",
    "df_task = pd.DataFrame(data_task, columns=['subj', 'rois', 'systems', 'corr'])"
   ]
  },
  {
   "cell_type": "code",
   "execution_count": 28,
   "metadata": {
    "collapsed": false,
    "deletable": true,
    "editable": true
   },
   "outputs": [
    {
     "data": {
      "text/html": [
       "<div>\n",
       "<table border=\"1\" class=\"dataframe\">\n",
       "  <thead>\n",
       "    <tr style=\"text-align: right;\">\n",
       "      <th></th>\n",
       "      <th>subj</th>\n",
       "      <th>rois</th>\n",
       "      <th>systems</th>\n",
       "      <th>corr</th>\n",
       "    </tr>\n",
       "  </thead>\n",
       "  <tbody>\n",
       "    <tr>\n",
       "      <th>0</th>\n",
       "      <td>sub01</td>\n",
       "      <td>IFG1 - L + EV2 - L</td>\n",
       "      <td>anterior_core+early_visual</td>\n",
       "      <td>0.158640</td>\n",
       "    </tr>\n",
       "    <tr>\n",
       "      <th>1</th>\n",
       "      <td>sub01</td>\n",
       "      <td>IFG1 - L + EV1 - R</td>\n",
       "      <td>anterior_core+early_visual</td>\n",
       "      <td>0.057679</td>\n",
       "    </tr>\n",
       "    <tr>\n",
       "      <th>2</th>\n",
       "      <td>sub01</td>\n",
       "      <td>IFG1 - L + mFus - R</td>\n",
       "      <td>anterior_core+ventral_core</td>\n",
       "      <td>0.015006</td>\n",
       "    </tr>\n",
       "    <tr>\n",
       "      <th>3</th>\n",
       "      <td>sub01</td>\n",
       "      <td>IFG1 - L + mFus - L</td>\n",
       "      <td>anterior_core+ventral_core</td>\n",
       "      <td>0.194959</td>\n",
       "    </tr>\n",
       "    <tr>\n",
       "      <th>4</th>\n",
       "      <td>sub01</td>\n",
       "      <td>IFG1 - L + EV1 - L</td>\n",
       "      <td>anterior_core+early_visual</td>\n",
       "      <td>0.299822</td>\n",
       "    </tr>\n",
       "  </tbody>\n",
       "</table>\n",
       "</div>"
      ],
      "text/plain": [
       "    subj                 rois                     systems      corr\n",
       "0  sub01   IFG1 - L + EV2 - L  anterior_core+early_visual  0.158640\n",
       "1  sub01   IFG1 - L + EV1 - R  anterior_core+early_visual  0.057679\n",
       "2  sub01  IFG1 - L + mFus - R  anterior_core+ventral_core  0.015006\n",
       "3  sub01  IFG1 - L + mFus - L  anterior_core+ventral_core  0.194959\n",
       "4  sub01   IFG1 - L + EV1 - L  anterior_core+early_visual  0.299822"
      ]
     },
     "execution_count": 28,
     "metadata": {},
     "output_type": "execute_result"
    }
   ],
   "source": [
    "df_task.head()"
   ]
  },
  {
   "cell_type": "code",
   "execution_count": 29,
   "metadata": {
    "collapsed": false,
    "deletable": true,
    "editable": true
   },
   "outputs": [],
   "source": [
    "df_task.to_csv('task_pairwise_corr.csv', index=False)"
   ]
  },
  {
   "cell_type": "code",
   "execution_count": 30,
   "metadata": {
    "collapsed": false,
    "deletable": true,
    "editable": true
   },
   "outputs": [],
   "source": [
    "# remove early visual\n",
    "task_data_noev = [filter_matrix(rdm, systems['core+extended'], labels_task) for rdm in task_data]"
   ]
  },
  {
   "cell_type": "code",
   "execution_count": 31,
   "metadata": {
    "collapsed": false,
    "deletable": true,
    "editable": true
   },
   "outputs": [],
   "source": [
    "labels_task_noev = task_data_noev[0].columns.tolist()"
   ]
  },
  {
   "cell_type": "code",
   "execution_count": 32,
   "metadata": {
    "collapsed": true,
    "deletable": true,
    "editable": true
   },
   "outputs": [],
   "source": [
    "systems_to_compute = ['core', 'extended']"
   ]
  },
  {
   "cell_type": "code",
   "execution_count": 33,
   "metadata": {
    "collapsed": false,
    "deletable": true,
    "editable": true
   },
   "outputs": [],
   "source": [
    "correlations_all_task = compute_correlations(task_data_noev, systems_to_compute, labels_task_noev)"
   ]
  },
  {
   "cell_type": "code",
   "execution_count": 34,
   "metadata": {
    "collapsed": false,
    "deletable": true,
    "editable": true
   },
   "outputs": [],
   "source": [
    "for key, df in correlations_all_task.iteritems():\n",
    "    df.to_csv('{0}_task_withinbetween_correlations.csv'.format(key), index=False)"
   ]
  },
  {
   "cell_type": "markdown",
   "metadata": {
    "deletable": true,
    "editable": true
   },
   "source": [
    "## Now do the same within each main system"
   ]
  },
  {
   "cell_type": "code",
   "execution_count": 35,
   "metadata": {
    "collapsed": false,
    "deletable": true,
    "editable": true
   },
   "outputs": [],
   "source": [
    "task_data_core = [filter_matrix(rdm.values, systems['core'], labels_noev) for rdm in task_data_noev]\n",
    "\n",
    "systems_to_compute = ['dorsal_core', 'ventral_core', 'anterior_core']\n",
    "correlations_core_task = compute_correlations(task_data_core, systems_to_compute, task_data_core[0].columns.tolist())\n",
    "\n",
    "for key, df in correlations_core_task.iteritems():\n",
    "    df.to_csv('{0}-withincore_task_withinbetween_correlations.csv'.format(key), index=False)"
   ]
  },
  {
   "cell_type": "code",
   "execution_count": 36,
   "metadata": {
    "collapsed": false,
    "deletable": true,
    "editable": true
   },
   "outputs": [],
   "source": [
    "task_data_ext = [filter_matrix(rdm.values, systems['extended'], labels_noev) for rdm in task_data_noev]\n",
    "\n",
    "systems_to_compute = ['theory_of_mind', 'precuneus']\n",
    "correlations_ext_task = compute_correlations(task_data_ext, systems_to_compute, task_data_ext[0].columns.tolist())\n",
    "\n",
    "for key, df in correlations_ext_task.iteritems():\n",
    "    df.to_csv('{0}-withinext_task_withinbetween_correlations.csv'.format(key), index=False)"
   ]
  },
  {
   "cell_type": "markdown",
   "metadata": {
    "deletable": true,
    "editable": true
   },
   "source": [
    "# Tests"
   ]
  },
  {
   "cell_type": "code",
   "execution_count": 37,
   "metadata": {
    "collapsed": true,
    "deletable": true,
    "editable": true
   },
   "outputs": [],
   "source": [
    "from numpy.testing import assert_array_equal"
   ]
  },
  {
   "cell_type": "code",
   "execution_count": 38,
   "metadata": {
    "collapsed": true,
    "deletable": true,
    "editable": true
   },
   "outputs": [],
   "source": [
    "def test_filter_matrix():\n",
    "    mat = np.ones((6, 6))\n",
    "    mat[np.ix_([3, 4, 5], [3, 4, 5])] = 3\n",
    "\n",
    "    labels = range(6)\n",
    "    \n",
    "    wanted_labels_ = [range(3), [3, 4, 5], [0, 1, 3, 5]]\n",
    "    for wanted_labels in wanted_labels_:\n",
    "        mat_filt = filter_matrix(mat, wanted_labels, labels)\n",
    "        assert_array_equal(mat_filt, mat[np.ix_(wanted_labels, wanted_labels)])\n",
    "\n",
    "test_filter_matrix()"
   ]
  },
  {
   "cell_type": "code",
   "execution_count": 39,
   "metadata": {
    "collapsed": true,
    "deletable": true,
    "editable": true
   },
   "outputs": [],
   "source": [
    "def test_compute_within_between_mean():\n",
    "    mat = np.zeros((10, 10))\n",
    "    mat[:5, :5] = 5\n",
    "    mat[5:, 5:] = 20\n",
    "    assert_array_equal(compute_within_between_mean(mat, range(5), range(10)), [5.0, 0.0])\n",
    "    assert_array_equal(compute_within_between_mean(mat, range(5, 10), range(10)), [20.0, 0.0])\n",
    "test_compute_within_between_mean()"
   ]
  }
 ],
 "metadata": {
  "kernelspec": {
   "display_name": "Python 2",
   "language": "python",
   "name": "python2"
  },
  "language_info": {
   "codemirror_mode": {
    "name": "ipython",
    "version": 2
   },
   "file_extension": ".py",
   "mimetype": "text/x-python",
   "name": "python",
   "nbconvert_exporter": "python",
   "pygments_lexer": "ipython2",
   "version": "2.7.9"
  }
 },
 "nbformat": 4,
 "nbformat_minor": 2
}
