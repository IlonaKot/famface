{
 "cells": [
  {
   "cell_type": "code",
   "execution_count": 27,
   "metadata": {
    "collapsed": true
   },
   "outputs": [],
   "source": [
    "%matplotlib inline"
   ]
  },
  {
   "cell_type": "code",
   "execution_count": 28,
   "metadata": {
    "collapsed": true
   },
   "outputs": [],
   "source": [
    "import seaborn as sns\n",
    "from mvpa2.suite import *\n",
    "from os.path import join as pjoin\n",
    "from joblib.parallel import Parallel, delayed\n",
    "import pandas as pd\n",
    "from scipy.spatial.distance import pdist, cdist\n",
    "\n",
    "from itertools import combinations"
   ]
  },
  {
   "cell_type": "code",
   "execution_count": 29,
   "metadata": {
    "collapsed": true
   },
   "outputs": [],
   "source": [
    "raiders_data = h5load('/home/swaroop/mvpa_linux_bkup/slhyper/raiders_dartmouth_8ch_mni_gray_large.hdf5.gz')"
   ]
  },
  {
   "cell_type": "code",
   "execution_count": 30,
   "metadata": {
    "collapsed": true
   },
   "outputs": [],
   "source": [
    "# run this for hpal_part 1 and 2\n",
    "hpal_part = 2\n",
    "hyper_params_fn = '/home/swaroop/mvpa_linux_bkup/slhyper/' + \\\n",
    "'surfslhypmappersmni_raiders_dartmouth_8ch_radius20_lr32_hr128_part{0}_featsel0.7.hdf5.gz'.format(hpal_part)"
   ]
  },
  {
   "cell_type": "code",
   "execution_count": 31,
   "metadata": {
    "collapsed": true
   },
   "outputs": [],
   "source": [
    "hyper_params = h5load(hyper_params_fn)"
   ]
  },
  {
   "cell_type": "code",
   "execution_count": 32,
   "metadata": {
    "collapsed": false
   },
   "outputs": [],
   "source": [
    "ds_test = raiders_data['ds']"
   ]
  },
  {
   "cell_type": "code",
   "execution_count": 33,
   "metadata": {
    "collapsed": false
   },
   "outputs": [],
   "source": [
    "hmappers = hyper_params['hmappers']"
   ]
  },
  {
   "cell_type": "code",
   "execution_count": 54,
   "metadata": {
    "collapsed": false
   },
   "outputs": [
    {
     "data": {
      "text/plain": [
       "1322"
      ]
     },
     "execution_count": 54,
     "metadata": {},
     "output_type": "execute_result"
    }
   ],
   "source": [
    "len(range(4,1326))"
   ]
  },
  {
   "cell_type": "code",
   "execution_count": 55,
   "metadata": {
    "collapsed": false
   },
   "outputs": [
    {
     "data": {
      "text/plain": [
       "1336"
      ]
     },
     "execution_count": 55,
     "metadata": {},
     "output_type": "execute_result"
    }
   ],
   "source": [
    "len(range(1326, 2662))"
   ]
  },
  {
   "cell_type": "code",
   "execution_count": 52,
   "metadata": {
    "collapsed": false
   },
   "outputs": [
    {
     "data": {
      "text/plain": [
       "[<Dataset: 2662x61831@float32, <sa: time_coords,time_indices>, <fa: voxel_indices>, <a: imghdr,imgtype,mapper,voxel_dim,voxel_eldim>>,\n",
       " <Dataset: 2662x61831@float32, <sa: time_coords,time_indices>, <fa: voxel_indices>, <a: imghdr,imgtype,mapper,voxel_dim,voxel_eldim>>,\n",
       " <Dataset: 2662x61831@float32, <sa: time_coords,time_indices>, <fa: voxel_indices>, <a: imghdr,imgtype,mapper,voxel_dim,voxel_eldim>>,\n",
       " <Dataset: 2662x61831@float32, <sa: time_coords,time_indices>, <fa: voxel_indices>, <a: imghdr,imgtype,mapper,voxel_dim,voxel_eldim>>,\n",
       " <Dataset: 2662x61831@float32, <sa: time_coords,time_indices>, <fa: voxel_indices>, <a: imghdr,imgtype,mapper,voxel_dim,voxel_eldim>>,\n",
       " <Dataset: 2662x61831@float32, <sa: time_coords,time_indices>, <fa: voxel_indices>, <a: imghdr,imgtype,mapper,voxel_dim,voxel_eldim>>,\n",
       " <Dataset: 2662x61831@float32, <sa: time_coords,time_indices>, <fa: voxel_indices>, <a: imghdr,imgtype,mapper,voxel_dim,voxel_eldim>>,\n",
       " <Dataset: 2662x61831@float32, <sa: time_coords,time_indices>, <fa: voxel_indices>, <a: imghdr,imgtype,mapper,voxel_dim,voxel_eldim>>,\n",
       " <Dataset: 2662x61831@float32, <sa: time_coords,time_indices>, <fa: voxel_indices>, <a: imghdr,imgtype,mapper,voxel_dim,voxel_eldim>>,\n",
       " <Dataset: 2662x61831@float32, <sa: time_coords,time_indices>, <fa: voxel_indices>, <a: imghdr,imgtype,mapper,voxel_dim,voxel_eldim>>,\n",
       " <Dataset: 2662x61831@float32, <sa: time_coords,time_indices>, <fa: voxel_indices>, <a: imghdr,imgtype,mapper,voxel_dim,voxel_eldim>>]"
      ]
     },
     "execution_count": 52,
     "metadata": {},
     "output_type": "execute_result"
    }
   ],
   "source": [
    "raiders_data['ds']"
   ]
  },
  {
   "cell_type": "code",
   "execution_count": 34,
   "metadata": {
    "collapsed": true
   },
   "outputs": [],
   "source": [
    "# take only the data we need\n",
    "if hpal_part == 1:\n",
    "    ds_test = [sd[1326:, ] for sd in ds_test]\n",
    "else:\n",
    "    ds_test = [sd[4:1326, ] for sd in ds_test]"
   ]
  },
  {
   "cell_type": "code",
   "execution_count": 35,
   "metadata": {
    "collapsed": false
   },
   "outputs": [],
   "source": [
    "# load mask\n",
    "data_dir = '/home/swaroop/mvpa_linux_bkup/slhyper'\n",
    "sfs = h5load(pjoin(data_dir, 'cerebrum_mask.hdf5.gz'))"
   ]
  },
  {
   "cell_type": "code",
   "execution_count": 36,
   "metadata": {
    "collapsed": false
   },
   "outputs": [],
   "source": [
    "# apply mask\n",
    "ds_test = [sfs.forward(sd) for sd in ds_test]"
   ]
  },
  {
   "cell_type": "code",
   "execution_count": 37,
   "metadata": {
    "collapsed": true
   },
   "outputs": [],
   "source": [
    "# zscore\n",
    "_ = [zscore(sd, chunks_attr=None) for sd in ds_test]"
   ]
  },
  {
   "cell_type": "code",
   "execution_count": 38,
   "metadata": {
    "collapsed": true
   },
   "outputs": [],
   "source": [
    "def hyperalign(mapper, ds):\n",
    "    tmp = mapper.forward(ds)\n",
    "    zscore(tmp, chunks_attr=None)\n",
    "    return tmp"
   ]
  },
  {
   "cell_type": "code",
   "execution_count": 39,
   "metadata": {
    "collapsed": true,
    "deletable": true,
    "editable": true
   },
   "outputs": [],
   "source": [
    "# save voxel_indices\n",
    "voxel_indices = ds_test[0].fa.voxel_indices"
   ]
  },
  {
   "cell_type": "code",
   "execution_count": 40,
   "metadata": {
    "collapsed": true
   },
   "outputs": [],
   "source": [
    "# hyperaligning\n",
    "ds_test = Parallel(n_jobs=11)(delayed(hyperalign)(hm, sd) for hm, sd in zip(hmappers, ds_test))"
   ]
  },
  {
   "cell_type": "code",
   "execution_count": 41,
   "metadata": {
    "collapsed": false,
    "deletable": true,
    "editable": true
   },
   "outputs": [],
   "source": [
    "# load rois\n",
    "rois = h5load('../notebooks/manual_rois_20170222_3r_no-overlap_MNI3mm_mask.hdf5')"
   ]
  },
  {
   "cell_type": "code",
   "execution_count": 42,
   "metadata": {
    "collapsed": true
   },
   "outputs": [],
   "source": [
    "labels = list(pd.read_csv('roi_coord.csv')['Abbreviation'])"
   ]
  },
  {
   "cell_type": "code",
   "execution_count": 43,
   "metadata": {
    "collapsed": false
   },
   "outputs": [
    {
     "name": "stdout",
     "output_type": "stream",
     "text": [
      "Using 30 rois\n"
     ]
    }
   ],
   "source": [
    "print('Using {0} rois'.format(len(labels)))"
   ]
  },
  {
   "cell_type": "code",
   "execution_count": 44,
   "metadata": {
    "collapsed": true
   },
   "outputs": [],
   "source": [
    "def compute_rdms(ds, roi, labels):\n",
    "    rdms = []\n",
    "    for label in labels:\n",
    "        print(\"Computing RDM for {0}\".format(label))\n",
    "        idx = roi[label][1]\n",
    "        rdms.append(1. - pdist(ds.samples[:, idx], metric='correlation'))\n",
    "    rdms = Dataset(rdms, sa={'targets': labels})\n",
    "    assert(rdms.nfeatures == ds.nsamples * (ds.nsamples - 1) / 2)\n",
    "    return rdms"
   ]
  },
  {
   "cell_type": "code",
   "execution_count": 45,
   "metadata": {
    "collapsed": false
   },
   "outputs": [
    {
     "name": "stdout",
     "output_type": "stream",
     "text": [
      "Computing RDM for EV1 - L\n",
      "Computing RDM for EV1 - R\n",
      "Computing RDM for EV2 - L\n",
      "Computing RDM for EV2 - R\n",
      "Computing RDM for OccFus - L\n",
      "Computing RDM for OccFus - R\n",
      "Computing RDM for EV1 - L\n",
      "Computing RDM for EV1 - R\n",
      "Computing RDM for pFus - L\n",
      "Computing RDM for EV2 - L\n",
      "Computing RDM for pFus - R\n",
      "Computing RDM for EV2 - R\n",
      "Computing RDM for mFus - L\n",
      "Computing RDM for OccFus - L\n",
      "Computing RDM for mFus - R\n",
      "Computing RDM for OccFus - R\n",
      "Computing RDM for EV1 - L\n",
      "Computing RDM for EV1 - R\n",
      "Computing RDM for pFus - L\n",
      "Computing RDM for pMTG - L\n",
      "Computing RDM for EV2 - L\n",
      "Computing RDM for pMTG - R\n",
      "Computing RDM for pFus - R\n",
      "Computing RDM for EV2 - R\n",
      "Computing RDM for aFus - R\n",
      "Computing RDM for OccFus - L\n",
      "Computing RDM for mFus - L\n",
      "Computing RDM for mMTG - L\n",
      "Computing RDM for OccFus - R\n",
      "Computing RDM for EV1 - L\n",
      "Computing RDM for mFus - R\n",
      "Computing RDM for EV1 - R\n",
      "Computing RDM for mMTG - R\n",
      "Computing RDM for pFus - L\n",
      "Computing RDM for pMTG - L\n",
      "Computing RDM for EV2 - L\n",
      "Computing RDM for aMTG - L\n",
      "Computing RDM for pMTG - R\n",
      "Computing RDM for pFus - R\n",
      "Computing RDM for EV2 - R\n",
      "Computing RDM for aMTG - R\n",
      "Computing RDM for mFus - L\n",
      "Computing RDM for aFus - R\n",
      "Computing RDM for OccFus - L\n",
      "Computing RDM for IFG1 - L\n",
      "Computing RDM for mFus - R\n",
      "Computing RDM for mMTG - L\n",
      "Computing RDM for EV1 - L\n",
      "Computing RDM for OccFus - R\n",
      "Computing RDM for IFG2 - L\n",
      "Computing RDM for EV1 - R\n",
      "Computing RDM for mMTG - R\n",
      "Computing RDM for pMTG - L\n",
      "Computing RDM for IFG2 - R\n",
      "Computing RDM for pFus - L\n",
      "Computing RDM for pMTG - R\n",
      "Computing RDM for aMTG - L\n",
      "Computing RDM for EV2 - L\n",
      "Computing RDM for TPJ - L\n",
      "Computing RDM for pFus - R\n",
      "Computing RDM for EV2 - R\n",
      "Computing RDM for aMTG - R\n",
      "Computing RDM for aFus - R\n",
      "Computing RDM for TPJ - R\n",
      "Computing RDM for OccFus - L\n",
      "Computing RDM for mFus - L\n",
      "Computing RDM for IFG1 - L\n",
      "Computing RDM for mMTG - L\n",
      "Computing RDM for MPFC - L\n",
      "Computing RDM for IFG2 - L\n",
      "Computing RDM for OccFus - R\n",
      "Computing RDM for mFus - R\n",
      "Computing RDM for mMTG - R\n",
      "Computing RDM for EV1 - L\n",
      "Computing RDM for MPFC - R\n",
      "Computing RDM for IFG2 - R\n",
      "Computing RDM for pFus - L\n",
      "Computing RDM for EV1 - R\n",
      "Computing RDM for dPreCun - L\n",
      "Computing RDM for aMTG - L\n",
      "Computing RDM for pMTG - L\n",
      "Computing RDM for pFus - R\n",
      "Computing RDM for TPJ - L\n",
      "Computing RDM for dPreCun - R\n",
      "Computing RDM for aMTG - R\n",
      "Computing RDM for pMTG - R\n",
      "Computing RDM for EV2 - L\n",
      "Computing RDM for TPJ - R\n",
      "Computing RDM for mFus - L\n",
      "Computing RDM for EV2 - R\n",
      "Computing RDM for mPreCun - L\n",
      "Computing RDM for IFG1 - L\n",
      "Computing RDM for aFus - R\n",
      "Computing RDM for OccFus - L\n",
      "Computing RDM for MPFC - L\n",
      "Computing RDM for IFG2 - L\n",
      "Computing RDM for mPreCun - R\n",
      "Computing RDM for mFus - R\n",
      "Computing RDM for IFG2 - R\n",
      "Computing RDM for vPreCun - L\n",
      "Computing RDM for MPFC - R\n",
      "Computing RDM for mMTG - L\n",
      "Computing RDM for pMTG - L\n",
      "Computing RDM for OccFus - R\n",
      "Computing RDM for EV1 - L\n",
      "Computing RDM for dPreCun - L\n",
      "Computing RDM for vPreCun - R\n",
      "Computing RDM for pMTG - R\n",
      "Computing RDM for mMTG - R\n",
      "Computing RDM for TPJ - L\n",
      "Computing RDM for EV1 - R\n",
      "Computing RDM for pFus - L\n",
      "Computing RDM for dPreCun - R\n",
      "Computing RDM for aFus - R\n",
      "Computing RDM for TPJ - R\n",
      "Computing RDM for aMTG - L\n",
      "Computing RDM for EV2 - L\n",
      "Computing RDM for mPreCun - L\n",
      "Computing RDM for pFus - R\n",
      "Computing RDM for mMTG - L\n",
      "Computing RDM for MPFC - L\n",
      "Computing RDM for EV2 - R\n",
      "Computing RDM for aMTG - R\n",
      "Computing RDM for mPreCun - R\n",
      "Computing RDM for MPFC - R\n",
      "Computing RDM for OccFus - L\n",
      "Computing RDM for mFus - L\n",
      "Computing RDM for mMTG - R\n",
      "Computing RDM for vPreCun - L\n",
      "Computing RDM for IFG1 - L\n",
      "Computing RDM for dPreCun - L\n",
      "Computing RDM for vPreCun - R\n",
      "Computing RDM for aMTG - L\n",
      "Computing RDM for EV1 - L\n",
      "Computing RDM for OccFus - R\n",
      "Computing RDM for mFus - R\n",
      "Computing RDM for dPreCun - R\n",
      "Computing RDM for IFG2 - L\n",
      "Computing RDM for aMTG - R\n",
      "Computing RDM for EV1 - R\n",
      "Computing RDM for mPreCun - L\n",
      "Computing RDM for pFus - L\n",
      "Computing RDM for IFG2 - R\n",
      "Computing RDM for pMTG - L\n",
      "Computing RDM for IFG1 - L\n",
      "Computing RDM for EV2 - L\n",
      "Computing RDM for mPreCun - R\n",
      "Computing RDM for pMTG - R\n",
      "Computing RDM for IFG2 - L\n",
      "Computing RDM for pFus - R\n",
      "Computing RDM for TPJ - L\n",
      "Computing RDM for EV2 - R\n",
      "Computing RDM for vPreCun - L\n",
      "Computing RDM for IFG2 - R\n",
      "Computing RDM for aFus - R\n",
      "Computing RDM for OccFus - L\n",
      "Computing RDM for vPreCun - R\n",
      "Computing RDM for TPJ - R\n",
      "Computing RDM for mFus - L\n",
      "Computing RDM for TPJ - L\n",
      "Computing RDM for EV1 - L\n",
      "Computing RDM for mMTG - L\n",
      "Computing RDM for OccFus - R\n",
      "Computing RDM for MPFC - L\n",
      "Computing RDM for mFus - R\n",
      "Computing RDM for EV1 - R\n",
      "Computing RDM for TPJ - R\n",
      "Computing RDM for mMTG - R\n",
      "Computing RDM for MPFC - R\n",
      "Computing RDM for pFus - L\n",
      "Computing RDM for pMTG - L\n",
      "Computing RDM for EV2 - L\n",
      "Computing RDM for MPFC - L\n",
      "Computing RDM for dPreCun - L\n",
      "Computing RDM for aMTG - L\n",
      "Computing RDM for pMTG - R\n",
      "Computing RDM for EV2 - R\n",
      "Computing RDM for pFus - R\n",
      "Computing RDM for MPFC - R\n",
      "Computing RDM for dPreCun - R\n",
      "Computing RDM for OccFus - L\n",
      "Computing RDM for aMTG - R\n",
      "Computing RDM for dPreCun - L\n",
      "Computing RDM for aFus - R\n",
      "Computing RDM for mFus - L\n",
      "Computing RDM for mPreCun - L\n",
      "Computing RDM for OccFus - R\n",
      "Computing RDM for dPreCun - R\n",
      "Computing RDM for IFG1 - L\n",
      "Computing RDM for EV1 - L\n",
      "Computing RDM for mMTG - L\n",
      "Computing RDM for mFus - R\n",
      "Computing RDM for mPreCun - R\n",
      "Computing RDM for IFG2 - L\n",
      "Computing RDM for mPreCun - L\n",
      "Computing RDM for EV1 - R\n",
      "Computing RDM for pFus - L\n",
      "Computing RDM for mMTG - R\n",
      "Computing RDM for vPreCun - L\n",
      "Computing RDM for pMTG - L\n",
      "Computing RDM for IFG2 - R\n",
      "Computing RDM for mPreCun - R\n",
      "Computing RDM for EV2 - L\n",
      "Computing RDM for pFus - R\n",
      "Computing RDM for pMTG - R\n",
      "Computing RDM for vPreCun - R\n",
      "Computing RDM for aMTG - L\n",
      "Computing RDM for vPreCun - L\n",
      "Computing RDM for EV2 - R\n",
      "Computing RDM for TPJ - L\n",
      "Computing RDM for mFus - L\n",
      "Computing RDM for aMTG - R\n",
      "Computing RDM for vPreCun - R\n",
      "Computing RDM for aFus - R\n",
      "Computing RDM for OccFus - L\n",
      "Computing RDM for TPJ - R\n",
      "Computing RDM for mFus - R\n",
      "Computing RDM for IFG1 - L\n",
      "Computing RDM for mMTG - L\n",
      "Computing RDM for OccFus - R\n",
      "Computing RDM for EV1 - L\n",
      "Computing RDM for MPFC - L\n",
      "Computing RDM for IFG2 - L\n",
      "Computing RDM for mMTG - R\n",
      "Computing RDM for pMTG - L\n",
      "Computing RDM for EV1 - R\n",
      "Computing RDM for pFus - L\n",
      "Computing RDM for MPFC - R\n",
      "Computing RDM for pMTG - R\n",
      "Computing RDM for IFG2 - R\n",
      "Computing RDM for aMTG - L\n",
      "Computing RDM for dPreCun - L\n",
      "Computing RDM for pFus - R\n",
      "Computing RDM for EV2 - L\n",
      "Computing RDM for aFus - R\n",
      "Computing RDM for aMTG - R\n",
      "Computing RDM for TPJ - L\n",
      "Computing RDM for EV2 - R\n",
      "Computing RDM for dPreCun - R\n",
      "Computing RDM for mFus - L\n",
      "Computing RDM for OccFus - L\n",
      "Computing RDM for mMTG - L\n",
      "Computing RDM for IFG1 - L\n",
      "Computing RDM for TPJ - R\n",
      "Computing RDM for mPreCun - L\n",
      "Computing RDM for IFG2 - L\n",
      "Computing RDM for mFus - R\n",
      "Computing RDM for mMTG - R\n",
      "Computing RDM for OccFus - R\n",
      "Computing RDM for MPFC - L\n",
      "Computing RDM for mPreCun - R\n",
      "Computing RDM for IFG2 - R\n",
      "Computing RDM for pMTG - L\n",
      "Computing RDM for aMTG - L\n",
      "Computing RDM for vPreCun - L\n",
      "Computing RDM for pFus - L\n",
      "Computing RDM for MPFC - R\n",
      "Computing RDM for pMTG - R\n",
      "Computing RDM for TPJ - L\n",
      "Computing RDM for aMTG - R\n",
      "Computing RDM for dPreCun - L\n",
      "Computing RDM for vPreCun - R\n",
      "Computing RDM for pFus - R\n",
      "Computing RDM for TPJ - R\n",
      "Computing RDM for aFus - R\n",
      "Computing RDM for dPreCun - R\n",
      "Computing RDM for IFG1 - L\n",
      "Computing RDM for mFus - L\n",
      "Computing RDM for MPFC - L\n",
      "Computing RDM for IFG2 - L\n",
      "Computing RDM for mMTG - L\n",
      "Computing RDM for mPreCun - L\n",
      "Computing RDM for MPFC - R\n",
      "Computing RDM for mFus - R\n",
      "Computing RDM for IFG2 - R\n",
      "Computing RDM for dPreCun - L\n",
      "Computing RDM for mPreCun - R\n",
      "Computing RDM for mMTG - R\n",
      "Computing RDM for pMTG - L\n",
      "Computing RDM for vPreCun - L\n",
      "Computing RDM for TPJ - L\n",
      "Computing RDM for dPreCun - R\n",
      "Computing RDM for aMTG - L\n",
      "Computing RDM for pMTG - R\n",
      "Computing RDM for TPJ - R\n",
      "Computing RDM for vPreCun - R\n",
      "Computing RDM for mPreCun - L\n",
      "Computing RDM for aMTG - R\n",
      "Computing RDM for aFus - R\n",
      "Computing RDM for mPreCun - R\n",
      "Computing RDM for MPFC - L\n",
      "Computing RDM for vPreCun - L\n",
      "Computing RDM for IFG1 - L\n",
      "Computing RDM for MPFC - R\n",
      "Computing RDM for mMTG - L\n",
      "Computing RDM for IFG2 - L\n",
      "Computing RDM for vPreCun - R\n",
      "Computing RDM for dPreCun - L\n",
      "Computing RDM for mMTG - R\n",
      "Computing RDM for IFG2 - R\n",
      "Computing RDM for IFG2 - L\n",
      "Computing RDM for dPreCun - R\n",
      "Computing RDM for aMTG - L\n",
      "Computing RDM for TPJ - L\n",
      "Computing RDM for mPreCun - L\n",
      "Computing RDM for aMTG - R\n",
      "Computing RDM for TPJ - R\n",
      "Computing RDM for mPreCun - R\n",
      "Computing RDM for IFG1 - L\n",
      "Computing RDM for vPreCun - L\n",
      "Computing RDM for MPFC - L\n",
      "Computing RDM for vPreCun - R\n",
      "Computing RDM for MPFC - R\n",
      "Computing RDM for IFG2 - R\n",
      "Computing RDM for dPreCun - L\n",
      "Computing RDM for TPJ - L\n",
      "Computing RDM for dPreCun - R\n",
      "Computing RDM for TPJ - R\n",
      "Computing RDM for mPreCun - L\n",
      "Computing RDM for mPreCun - R\n",
      "Computing RDM for MPFC - L\n",
      "Computing RDM for vPreCun - L\n",
      "Computing RDM for mPreCun - L\n",
      "Computing RDM for MPFC - R\n",
      "Computing RDM for dPreCun - L\n",
      "Computing RDM for vPreCun - R\n",
      "Computing RDM for dPreCun - R\n",
      "Computing RDM for mPreCun - R\n",
      "Computing RDM for vPreCun - L\n",
      "Computing RDM for vPreCun - R\n"
     ]
    }
   ],
   "source": [
    "rdm_all = Parallel(n_jobs=11)(delayed(compute_rdms)(ds, rois, labels) for ds in ds_test)"
   ]
  },
  {
   "cell_type": "code",
   "execution_count": 46,
   "metadata": {
    "collapsed": true
   },
   "outputs": [],
   "source": [
    "def cross_correlation(a, b):\n",
    "    return 1. - cdist(a, b, metric='correlation')"
   ]
  },
  {
   "cell_type": "code",
   "execution_count": 47,
   "metadata": {
    "collapsed": true
   },
   "outputs": [],
   "source": [
    "roi_rdm = Parallel(n_jobs=32)(delayed(cross_correlation)\n",
    "                              (rdm_all[isub], rdm_all[jsub]) \n",
    "                              for isub, jsub in combinations(range(11), 2))"
   ]
  },
  {
   "cell_type": "code",
   "execution_count": 48,
   "metadata": {
    "collapsed": false,
    "scrolled": false
   },
   "outputs": [],
   "source": [
    "roi_rdm_avg = np.arctanh(roi_rdm).mean(axis=0)"
   ]
  },
  {
   "cell_type": "code",
   "execution_count": 49,
   "metadata": {
    "collapsed": false
   },
   "outputs": [],
   "source": [
    "roi_rdm_avg += roi_rdm_avg.T\n",
    "roi_rdm_avg /= 2"
   ]
  },
  {
   "cell_type": "code",
   "execution_count": 50,
   "metadata": {
    "collapsed": true
   },
   "outputs": [],
   "source": [
    "roi_rdm_avg = np.tanh(roi_rdm_avg)"
   ]
  },
  {
   "cell_type": "code",
   "execution_count": 51,
   "metadata": {
    "collapsed": true
   },
   "outputs": [],
   "source": [
    "h5save('roi_rdm_hpal_part{0}.hdf5'.format(hpal_part), roi_rdm_avg)"
   ]
  },
  {
   "cell_type": "markdown",
   "metadata": {},
   "source": [
    "## Check that the node indices make sense"
   ]
  },
  {
   "cell_type": "code",
   "execution_count": null,
   "metadata": {
    "collapsed": false
   },
   "outputs": [],
   "source": [
    "# get voxel indices to find correspondence, first load template\n",
    "cerebrum_mask = fmri_dataset('/home/swaroop/mvpa_linux_bkup/slhyper/MNI/MNI_mask_cerebrum.nii.gz',\n",
    "                            mask='/home/swaroop/mvpa_linux_bkup/slhyper/MNI/MNI_mask_cerebrum.nii.gz')"
   ]
  },
  {
   "cell_type": "code",
   "execution_count": null,
   "metadata": {
    "collapsed": true
   },
   "outputs": [],
   "source": [
    "def find_node_indices_dataset(roi_node_indices, template_voxel_indices, dataset_voxel_indices):\n",
    "    \"\"\"\n",
    "    Given roi_node_indices based on the template voxel_indices, return the \n",
    "    node indices based on the this dataset voxel indices\n",
    "    \"\"\"\n",
    "    # get voxel indices from template\n",
    "    these_voxel_indices = template_voxel_indices[roi_node_indices]\n",
    "    # now find what the node index is in the actual datset\n",
    "    roi_node_indices_dataset = []\n",
    "    for vxl in these_voxel_indices:\n",
    "        roi_node_indices_dataset.extend(np.where(np.all(vxl == dataset_voxel_indices, axis=1))[0])\n",
    "        \n",
    "    # assert we get the same number of elements\n",
    "    # assert(len(roi_node_indices_dataset) == len(roi_node_indices))\n",
    "    \n",
    "    return roi_node_indices_dataset"
   ]
  },
  {
   "cell_type": "code",
   "execution_count": null,
   "metadata": {
    "collapsed": false
   },
   "outputs": [],
   "source": [
    "for key, (center, nodes) in rois.iteritems():\n",
    "    try:\n",
    "        nodes_ = find_node_indices_dataset(nodes, cerebrum_mask.fa.voxel_indices, voxel_indices)\n",
    "    except:\n",
    "        pass\n",
    "    print(\"{0}: {1}/{2}\".format(key, len(nodes_), len(nodes)))"
   ]
  },
  {
   "cell_type": "code",
   "execution_count": null,
   "metadata": {
    "collapsed": true
   },
   "outputs": [],
   "source": [
    "# ok now we have correspondence"
   ]
  }
 ],
 "metadata": {
  "kernelspec": {
   "display_name": "Python 2",
   "language": "python",
   "name": "python2"
  },
  "language_info": {
   "codemirror_mode": {
    "name": "ipython",
    "version": 2
   },
   "file_extension": ".py",
   "mimetype": "text/x-python",
   "name": "python",
   "nbconvert_exporter": "python",
   "pygments_lexer": "ipython2",
   "version": "2.7.9"
  }
 },
 "nbformat": 4,
 "nbformat_minor": 2
}
