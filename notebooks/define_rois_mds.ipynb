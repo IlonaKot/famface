{
 "cells": [
  {
   "cell_type": "markdown",
   "metadata": {},
   "source": [
    "We have manually selected some ROI centers by inspecting the classification maps. Then, we set a sphere (radius in voxel = 3) around those centers and select the voxel containing maximum accuracy. That voxel will be then the center of a sphere of radius 5 voxels that will be used as ROI."
   ]
  },
  {
   "cell_type": "code",
   "execution_count": 1,
   "metadata": {
    "collapsed": false
   },
   "outputs": [],
   "source": [
    "from mvpa2.base.hdf5 import h5load\n",
    "from mvpa2.datasets.mri import fmri_dataset, Dataset\n",
    "from mvpa2.suite import Sphere, IndexQueryEngine\n",
    "import numpy as np\n",
    "from os.path import join as pjoin\n",
    "from mvpa2.datasets.mri import map2nifti"
   ]
  },
  {
   "cell_type": "code",
   "execution_count": 2,
   "metadata": {
    "collapsed": false
   },
   "outputs": [],
   "source": [
    "basedir = '/data/famface/openfmri/results/l2ants_final/model001/task001/subjects_all/'\n",
    "anatype_fam = 'slmskz5vx_svm/familiar_vs_unfamiliar-id'\n",
    "anatype_id = 'slmskz5vx_svm/identity-familiar+identity-unfamiliar'"
   ]
  },
  {
   "cell_type": "code",
   "execution_count": 3,
   "metadata": {
    "collapsed": false
   },
   "outputs": [
    {
     "name": "stdout",
     "output_type": "stream",
     "text": [
      "WARNING: Detected incorrect (nan) scl_ fields. Resetting to scl_slope=1.0 and scl_inter=0.0\n",
      " * Please note: warnings are printed only once, but underlying problem might occur many times *\n"
     ]
    }
   ],
   "source": [
    "ds_fam = fmri_dataset(pjoin(basedir, 'stats/mvpa', anatype_fam, 'avg_sl_map.nii.gz'))\n",
    "ds_id = fmri_dataset(pjoin(basedir, 'stats/mvpa', anatype_id, 'avg_sl_map.nii.gz'))\n",
    "mask = fmri_dataset('/data/famface/openfmri/results/l2ants_final/model001/task001/subjects_all/mask/union_mask_33sbjs_80p.nii.gz')\n",
    "mask_ = mask.samples[0] > 0\n",
    "ds_fam = ds_fam[:, mask_]\n",
    "ds_id = ds_id[:, mask_]"
   ]
  },
  {
   "cell_type": "code",
   "execution_count": 30,
   "metadata": {
    "collapsed": false
   },
   "outputs": [],
   "source": [
    "# rois within stat maps of familiar and identity classification\n",
    "rois = {\n",
    "'lvPreCun': [-8, -56, 26],\n",
    "'ldPreCun': [-8, -70, 34],\n",
    "'ldPreCun-Id': [-10, -62, 52],\n",
    "'lLingual': [-8, -82, -8],\n",
    "'lEV-Id': [-10, -94, -4],\n",
    "'lpFFA': [-46, -42, -20],\n",
    "'laFFA': [-40, -14, -28],\n",
    "'lIFG': [-42, 46, 4],\n",
    "'lIFG-Id': [-46, 34, -6],\n",
    "'lTPJ': [-56, -60, 26],\n",
    "'lpMTG': [-60, -48, 4],\n",
    "'lmMTG': [-60, -28, -8],\n",
    "'laMTG': [-54, 2, -22],\n",
    "'lParaCin': [-8, 48, -6],\n",
    "'rvPreCun': [10, -58, 18],\n",
    "'rdPreCun': [8, -70, 34],\n",
    "'rdPreCun-Id': [10, -62, 52],\n",
    "'rLingual': [10, -74, -4],\n",
    "'rEV-Id': [10, -90, 2],\n",
    "'rpFFA': [42, -40, -20],\n",
    "'raFFA': [40, -14, -28],\n",
    "'rTPJ': [56, -56, 24],\n",
    "'rpMTG': [60, -48, 4],\n",
    "'rmMTG': [60, -28, -2],\n",
    "'raMTG': [60, -10, -8],\n",
    "'rIFG': [56, 30, 2],\n",
    "'rATL-Id': [36, 6, -36],\n",
    "'raParaCin': [12, 46, 16],\n",
    "'rFFA-Id': [40, -60, -16],\n",
    "'lFFA-Id': [-40, -60, -16],\n",
    "'rOFA-Id': [26, -84, -12],\n",
    "'lOFA-Id': [-28, -84, -12],\n",
    "}"
   ]
  },
  {
   "cell_type": "code",
   "execution_count": 31,
   "metadata": {
    "collapsed": false
   },
   "outputs": [
    {
     "name": "stdout",
     "output_type": "stream",
     "text": [
      "Using 32 ROIs\n"
     ]
    }
   ],
   "source": [
    "print(\"Using {0} ROIs\".format(len(rois)))"
   ]
  },
  {
   "cell_type": "code",
   "execution_count": 32,
   "metadata": {
    "collapsed": false
   },
   "outputs": [],
   "source": [
    "# this radius is just to find the maximum\n",
    "radius_max = 3\n",
    "sphere = Sphere(radius_max)"
   ]
  },
  {
   "cell_type": "code",
   "execution_count": 33,
   "metadata": {
    "collapsed": false
   },
   "outputs": [],
   "source": [
    "qe = IndexQueryEngine(voxel_indices=sphere)"
   ]
  },
  {
   "cell_type": "code",
   "execution_count": 34,
   "metadata": {
    "collapsed": false
   },
   "outputs": [],
   "source": [
    "qe.train(ds_fam)"
   ]
  },
  {
   "cell_type": "code",
   "execution_count": 35,
   "metadata": {
    "collapsed": false
   },
   "outputs": [],
   "source": [
    "invaffine = np.linalg.inv(ds_fam.a.imgaffine)\n",
    "def xyz2ijk(xyz):\n",
    "    xyz1 = np.hstack((xyz, [1]))\n",
    "    ijk = np.dot(invaffine, xyz1)[:3].astype(int)\n",
    "    return ijk"
   ]
  },
  {
   "cell_type": "code",
   "execution_count": 36,
   "metadata": {
    "collapsed": false
   },
   "outputs": [],
   "source": [
    "rois_ijk = {key: xyz2ijk(xyz) for key, xyz in rois.iteritems()}"
   ]
  },
  {
   "cell_type": "code",
   "execution_count": 37,
   "metadata": {
    "collapsed": false
   },
   "outputs": [
    {
     "data": {
      "text/plain": [
       "(array([45, 63, 36]), array([44, 63, 36]), array([46, 63, 36]))"
      ]
     },
     "execution_count": 37,
     "metadata": {},
     "output_type": "execute_result"
    }
   ],
   "source": [
    "xyz2ijk((0, 0, 0)), xyz2ijk((2, 0, 0)), xyz2ijk((-2, 0, 0))"
   ]
  },
  {
   "cell_type": "code",
   "execution_count": 38,
   "metadata": {
    "collapsed": true
   },
   "outputs": [],
   "source": [
    "def filter_voxel_indices(nbr, vxl_indices, center_coord):\n",
    "    # 45 is the i coordinate for x = 0mm\n",
    "    sign_center = np.sign(center_coord[0] - 45)\n",
    "    sign_vxl_indices = np.sign(vxl_indices[:, 0] - 45)\n",
    "    return np.asarray(nbr)[sign_center * sign_vxl_indices > 0]"
   ]
  },
  {
   "cell_type": "code",
   "execution_count": 39,
   "metadata": {
    "collapsed": false
   },
   "outputs": [
    {
     "name": "stdout",
     "output_type": "stream",
     "text": [
      "Using idx_center for lEV-Id\n"
     ]
    }
   ],
   "source": [
    "#taking the accuracy\n",
    "rois_max = dict()\n",
    "for roi, roi_coord in rois_ijk.iteritems():\n",
    "    # select the correct dataset\n",
    "    if roi.endswith('-Id'):\n",
    "        which_ds = ds_id\n",
    "    else:\n",
    "        which_ds = ds_fam\n",
    "    idx_center = np.where((which_ds.fa.voxel_indices == roi_coord).all(axis=1))[0][0]\n",
    "    nbr = qe.query(voxel_indices=roi_coord)\n",
    "    # now we need to filter taking ONLY the voxels in the same hemisphere\n",
    "    voxel_indices_nbr = which_ds.fa.voxel_indices[nbr]\n",
    "    nbr = filter_voxel_indices(nbr, voxel_indices_nbr, roi_coord)\n",
    "    nbr_max = np.argmax(which_ds[:, nbr].samples[0])\n",
    "    idx_max = nbr[nbr_max]\n",
    "    if which_ds[:, idx_max].samples == which_ds[:, idx_center].samples:\n",
    "        idx_max = idx_center\n",
    "        print \"Using idx_center for {0}\".format(roi)\n",
    "    rois_max[roi] = which_ds.fa.voxel_indices[idx_max]"
   ]
  },
  {
   "cell_type": "code",
   "execution_count": 40,
   "metadata": {
    "collapsed": false
   },
   "outputs": [],
   "source": [
    "# now make a bigger qe\n",
    "qe_radius = 5\n",
    "sphere = Sphere(qe_radius)\n",
    "qe = IndexQueryEngine(voxel_indices=sphere)\n",
    "qe.train(ds_fam)"
   ]
  },
  {
   "cell_type": "code",
   "execution_count": 41,
   "metadata": {
    "collapsed": false
   },
   "outputs": [
    {
     "name": "stdout",
     "output_type": "stream",
     "text": [
      "Querying rLingual: [42 25 34]\n",
      "Querying lParaCin: [48 87 32]\n",
      "Querying rIFG: [15 77 39]\n",
      "Querying raParaCin: [39 87 46]\n",
      "Querying lTPJ: [74 32 48]\n",
      "Querying rEV-Id: [40 20 35]\n",
      "Querying lpFFA: [69 41 26]\n",
      "Querying rOFA-Id: [34 23 30]\n",
      "Querying ldPreCun: [48 30 51]\n",
      "Querying lFFA-Id: [66 34 28]\n",
      "Querying laFFA: [66 58 24]\n",
      "Querying lpMTG: [78 39 38]\n",
      "Querying lEV-Id: [50 16 34]\n",
      "Querying lmMTG: [77 49 33]\n",
      "Querying raMTG: [14 56 30]\n",
      "Querying rATL-Id: [27 66 20]\n",
      "Querying raFFA: [25 57 21]\n",
      "Querying rpFFA: [26 44 24]\n",
      "Querying rTPJ: [19 37 47]\n",
      "Querying lvPreCun: [47 35 48]\n",
      "Querying rpMTG: [13 39 36]\n",
      "Querying rdPreCun-Id: [42 31 61]\n",
      "Querying lIFG: [66 85 40]\n",
      "Querying rmMTG: [15 46 35]\n",
      "Querying rvPreCun: [41 36 47]\n",
      "Querying rFFA-Id: [23 31 29]\n",
      "Querying lOFA-Id: [61 23 29]\n",
      "Querying lLingual: [47 20 33]\n",
      "Querying laMTG: [73 62 26]\n",
      "Querying ldPreCun-Id: [48 30 61]\n",
      "Querying lIFG-Id: [68 82 34]\n",
      "Querying rdPreCun: [43 30 52]\n"
     ]
    }
   ],
   "source": [
    "rois_ = dict()\n",
    "for roi, roi_coord in rois_max.iteritems():\n",
    "    print(\"Querying {0}: {1}\".format(roi, roi_coord))\n",
    "    nbr = qe.query(voxel_indices=roi_coord)\n",
    "    # filter so we keep only voxels in the same hemisphere\n",
    "    nbr = filter_voxel_indices(nbr, ds_fam.fa.voxel_indices[nbr], \n",
    "                               roi_coord)\n",
    "    rois_[roi] = (roi_coord, nbr)\n",
    "\n",
    "from mvpa2.base.hdf5 import h5save\n",
    "h5save('manual_rois_20170102.hdf5', rois_)"
   ]
  },
  {
   "cell_type": "code",
   "execution_count": 42,
   "metadata": {
    "collapsed": false
   },
   "outputs": [
    {
     "name": "stdout",
     "output_type": "stream",
     "text": [
      "rLingual ([42 25 34]): 436\n",
      "lParaCin ([48 87 32]): 436\n",
      "rIFG ([15 77 39]): 265\n",
      "raParaCin ([39 87 46]): 515\n",
      "lLingual ([47 20 33]): 367\n",
      "rEV-Id ([40 20 35]): 514\n",
      "laMTG ([73 62 26]): 478\n",
      "lpFFA ([69 41 26]): 444\n",
      "lEV-Id ([50 16 34]): 514\n",
      "ldPreCun ([48 30 51]): 436\n",
      "lFFA-Id ([66 34 28]): 515\n",
      "laFFA ([66 58 24]): 515\n",
      "lpMTG ([78 39 38]): 337\n",
      "rOFA-Id ([34 23 30]): 515\n",
      "lIFG ([66 85 40]): 515\n",
      "raMTG ([14 56 30]): 467\n",
      "rATL-Id ([27 66 20]): 515\n",
      "raFFA ([25 57 21]): 468\n",
      "rpFFA ([26 44 24]): 414\n",
      "rTPJ ([19 37 47]): 515\n",
      "lvPreCun ([47 35 48]): 367\n",
      "rdPreCun-Id ([42 31 61]): 436\n",
      "lmMTG ([77 49 33]): 418\n",
      "rmMTG ([15 46 35]): 515\n",
      "rvPreCun ([41 36 47]): 485\n",
      "rFFA-Id ([23 31 29]): 508\n",
      "lOFA-Id ([61 23 29]): 509\n",
      "lTPJ ([74 32 48]): 424\n",
      "rpMTG ([13 39 36]): 428\n",
      "ldPreCun-Id ([48 30 61]): 436\n",
      "lIFG-Id ([68 82 34]): 509\n",
      "rdPreCun ([43 30 52]): 367\n"
     ]
    }
   ],
   "source": [
    "for roi, (center, ids) in rois_.iteritems():\n",
    "    print(\"{0} ({2}): {1}\".format(roi, len(ids), center))"
   ]
  },
  {
   "cell_type": "code",
   "execution_count": 43,
   "metadata": {
    "collapsed": false
   },
   "outputs": [],
   "source": [
    "ds_template = fmri_dataset('/usr/share/data/fsl-mni152-templates/MNI152_T1_2mm_brain.nii.gz')"
   ]
  },
  {
   "cell_type": "code",
   "execution_count": 44,
   "metadata": {
    "collapsed": false
   },
   "outputs": [],
   "source": [
    "ds_template = ds_template[:, mask_]"
   ]
  },
  {
   "cell_type": "code",
   "execution_count": 45,
   "metadata": {
    "collapsed": false
   },
   "outputs": [],
   "source": [
    "ds_labels = np.zeros((len(rois_), ds_fam.nfeatures), dtype=int)\n",
    "labels = []\n",
    "for i, (roi, (center, roi_ids)) in enumerate(rois_.iteritems()):\n",
    "    ds_labels[i, roi_ids] = 1\n",
    "    labels.append(roi)"
   ]
  },
  {
   "cell_type": "code",
   "execution_count": 46,
   "metadata": {
    "collapsed": false
   },
   "outputs": [],
   "source": [
    "ds_labels_ = Dataset(ds_labels, sa={'labels': labels}, a=ds_template.a)"
   ]
  },
  {
   "cell_type": "code",
   "execution_count": 47,
   "metadata": {
    "collapsed": false
   },
   "outputs": [],
   "source": [
    "map2nifti(ds_labels_).to_filename('rois_manual_r{0}_20170102.nii.gz'.format(radius_max))"
   ]
  },
  {
   "cell_type": "code",
   "execution_count": 48,
   "metadata": {
    "collapsed": true
   },
   "outputs": [],
   "source": [
    "# save a .1D file containing LPI coordinates to use whereami with AFNI\n",
    "affine = ds_fam.a.imgaffine\n",
    "def ijk2xyz(ijk):\n",
    "    ijk1 = np.hstack((ijk, [1]))\n",
    "    xyz = np.dot(affine, ijk1)[:3].astype(int)\n",
    "    return xyz"
   ]
  },
  {
   "cell_type": "code",
   "execution_count": 49,
   "metadata": {
    "collapsed": false
   },
   "outputs": [],
   "source": [
    "import pandas as pd"
   ]
  },
  {
   "cell_type": "code",
   "execution_count": 50,
   "metadata": {
    "collapsed": true
   },
   "outputs": [],
   "source": [
    "rois_labels = []\n",
    "rois_xyz = []\n",
    "for roi, (center, roi_ids) in rois_.iteritems():\n",
    "    rois_labels.append(roi)\n",
    "    rois_xyz.append(ijk2xyz(center))"
   ]
  },
  {
   "cell_type": "code",
   "execution_count": 51,
   "metadata": {
    "collapsed": false
   },
   "outputs": [],
   "source": [
    "df = pd.DataFrame(rois_xyz, index=rois_labels)"
   ]
  },
  {
   "cell_type": "code",
   "execution_count": 52,
   "metadata": {
    "collapsed": false
   },
   "outputs": [],
   "source": [
    "df = df.sort_values([1, 0])"
   ]
  },
  {
   "cell_type": "code",
   "execution_count": 53,
   "metadata": {
    "collapsed": true
   },
   "outputs": [],
   "source": [
    "df.to_csv('roi_coord.1D', header=False, sep=' ')"
   ]
  },
  {
   "cell_type": "code",
   "execution_count": 54,
   "metadata": {
    "collapsed": false
   },
   "outputs": [
    {
     "data": {
      "text/html": [
       "<div>\n",
       "<table border=\"1\" class=\"dataframe\">\n",
       "  <thead>\n",
       "    <tr style=\"text-align: right;\">\n",
       "      <th></th>\n",
       "      <th>0</th>\n",
       "      <th>1</th>\n",
       "      <th>2</th>\n",
       "    </tr>\n",
       "  </thead>\n",
       "  <tbody>\n",
       "    <tr>\n",
       "      <th>lEV-Id</th>\n",
       "      <td>-10</td>\n",
       "      <td>-94</td>\n",
       "      <td>-4</td>\n",
       "    </tr>\n",
       "    <tr>\n",
       "      <th>lLingual</th>\n",
       "      <td>-4</td>\n",
       "      <td>-86</td>\n",
       "      <td>-6</td>\n",
       "    </tr>\n",
       "    <tr>\n",
       "      <th>rEV-Id</th>\n",
       "      <td>10</td>\n",
       "      <td>-86</td>\n",
       "      <td>-2</td>\n",
       "    </tr>\n",
       "    <tr>\n",
       "      <th>lOFA-Id</th>\n",
       "      <td>-32</td>\n",
       "      <td>-80</td>\n",
       "      <td>-14</td>\n",
       "    </tr>\n",
       "    <tr>\n",
       "      <th>rOFA-Id</th>\n",
       "      <td>22</td>\n",
       "      <td>-80</td>\n",
       "      <td>-12</td>\n",
       "    </tr>\n",
       "    <tr>\n",
       "      <th>rLingual</th>\n",
       "      <td>6</td>\n",
       "      <td>-76</td>\n",
       "      <td>-4</td>\n",
       "    </tr>\n",
       "    <tr>\n",
       "      <th>ldPreCun</th>\n",
       "      <td>-6</td>\n",
       "      <td>-66</td>\n",
       "      <td>30</td>\n",
       "    </tr>\n",
       "    <tr>\n",
       "      <th>ldPreCun-Id</th>\n",
       "      <td>-6</td>\n",
       "      <td>-66</td>\n",
       "      <td>50</td>\n",
       "    </tr>\n",
       "    <tr>\n",
       "      <th>rdPreCun</th>\n",
       "      <td>4</td>\n",
       "      <td>-66</td>\n",
       "      <td>32</td>\n",
       "    </tr>\n",
       "    <tr>\n",
       "      <th>rdPreCun-Id</th>\n",
       "      <td>6</td>\n",
       "      <td>-64</td>\n",
       "      <td>50</td>\n",
       "    </tr>\n",
       "    <tr>\n",
       "      <th>rFFA-Id</th>\n",
       "      <td>44</td>\n",
       "      <td>-64</td>\n",
       "      <td>-14</td>\n",
       "    </tr>\n",
       "    <tr>\n",
       "      <th>lTPJ</th>\n",
       "      <td>-58</td>\n",
       "      <td>-62</td>\n",
       "      <td>24</td>\n",
       "    </tr>\n",
       "    <tr>\n",
       "      <th>lFFA-Id</th>\n",
       "      <td>-42</td>\n",
       "      <td>-58</td>\n",
       "      <td>-16</td>\n",
       "    </tr>\n",
       "    <tr>\n",
       "      <th>lvPreCun</th>\n",
       "      <td>-4</td>\n",
       "      <td>-56</td>\n",
       "      <td>24</td>\n",
       "    </tr>\n",
       "    <tr>\n",
       "      <th>rvPreCun</th>\n",
       "      <td>8</td>\n",
       "      <td>-54</td>\n",
       "      <td>22</td>\n",
       "    </tr>\n",
       "    <tr>\n",
       "      <th>rTPJ</th>\n",
       "      <td>52</td>\n",
       "      <td>-52</td>\n",
       "      <td>22</td>\n",
       "    </tr>\n",
       "    <tr>\n",
       "      <th>lpMTG</th>\n",
       "      <td>-66</td>\n",
       "      <td>-48</td>\n",
       "      <td>4</td>\n",
       "    </tr>\n",
       "    <tr>\n",
       "      <th>rpMTG</th>\n",
       "      <td>64</td>\n",
       "      <td>-48</td>\n",
       "      <td>0</td>\n",
       "    </tr>\n",
       "    <tr>\n",
       "      <th>lpFFA</th>\n",
       "      <td>-48</td>\n",
       "      <td>-44</td>\n",
       "      <td>-20</td>\n",
       "    </tr>\n",
       "    <tr>\n",
       "      <th>rpFFA</th>\n",
       "      <td>38</td>\n",
       "      <td>-38</td>\n",
       "      <td>-24</td>\n",
       "    </tr>\n",
       "    <tr>\n",
       "      <th>rmMTG</th>\n",
       "      <td>60</td>\n",
       "      <td>-34</td>\n",
       "      <td>-2</td>\n",
       "    </tr>\n",
       "    <tr>\n",
       "      <th>lmMTG</th>\n",
       "      <td>-64</td>\n",
       "      <td>-28</td>\n",
       "      <td>-6</td>\n",
       "    </tr>\n",
       "    <tr>\n",
       "      <th>raMTG</th>\n",
       "      <td>62</td>\n",
       "      <td>-14</td>\n",
       "      <td>-12</td>\n",
       "    </tr>\n",
       "    <tr>\n",
       "      <th>raFFA</th>\n",
       "      <td>40</td>\n",
       "      <td>-12</td>\n",
       "      <td>-30</td>\n",
       "    </tr>\n",
       "    <tr>\n",
       "      <th>laFFA</th>\n",
       "      <td>-42</td>\n",
       "      <td>-10</td>\n",
       "      <td>-24</td>\n",
       "    </tr>\n",
       "    <tr>\n",
       "      <th>laMTG</th>\n",
       "      <td>-56</td>\n",
       "      <td>-2</td>\n",
       "      <td>-20</td>\n",
       "    </tr>\n",
       "    <tr>\n",
       "      <th>rATL-Id</th>\n",
       "      <td>36</td>\n",
       "      <td>6</td>\n",
       "      <td>-32</td>\n",
       "    </tr>\n",
       "    <tr>\n",
       "      <th>rIFG</th>\n",
       "      <td>60</td>\n",
       "      <td>28</td>\n",
       "      <td>6</td>\n",
       "    </tr>\n",
       "    <tr>\n",
       "      <th>lIFG-Id</th>\n",
       "      <td>-46</td>\n",
       "      <td>38</td>\n",
       "      <td>-4</td>\n",
       "    </tr>\n",
       "    <tr>\n",
       "      <th>lIFG</th>\n",
       "      <td>-42</td>\n",
       "      <td>44</td>\n",
       "      <td>8</td>\n",
       "    </tr>\n",
       "    <tr>\n",
       "      <th>lParaCin</th>\n",
       "      <td>-6</td>\n",
       "      <td>48</td>\n",
       "      <td>-8</td>\n",
       "    </tr>\n",
       "    <tr>\n",
       "      <th>raParaCin</th>\n",
       "      <td>12</td>\n",
       "      <td>48</td>\n",
       "      <td>20</td>\n",
       "    </tr>\n",
       "  </tbody>\n",
       "</table>\n",
       "</div>"
      ],
      "text/plain": [
       "              0   1   2\n",
       "lEV-Id      -10 -94  -4\n",
       "lLingual     -4 -86  -6\n",
       "rEV-Id       10 -86  -2\n",
       "lOFA-Id     -32 -80 -14\n",
       "rOFA-Id      22 -80 -12\n",
       "rLingual      6 -76  -4\n",
       "ldPreCun     -6 -66  30\n",
       "ldPreCun-Id  -6 -66  50\n",
       "rdPreCun      4 -66  32\n",
       "rdPreCun-Id   6 -64  50\n",
       "rFFA-Id      44 -64 -14\n",
       "lTPJ        -58 -62  24\n",
       "lFFA-Id     -42 -58 -16\n",
       "lvPreCun     -4 -56  24\n",
       "rvPreCun      8 -54  22\n",
       "rTPJ         52 -52  22\n",
       "lpMTG       -66 -48   4\n",
       "rpMTG        64 -48   0\n",
       "lpFFA       -48 -44 -20\n",
       "rpFFA        38 -38 -24\n",
       "rmMTG        60 -34  -2\n",
       "lmMTG       -64 -28  -6\n",
       "raMTG        62 -14 -12\n",
       "raFFA        40 -12 -30\n",
       "laFFA       -42 -10 -24\n",
       "laMTG       -56  -2 -20\n",
       "rATL-Id      36   6 -32\n",
       "rIFG         60  28   6\n",
       "lIFG-Id     -46  38  -4\n",
       "lIFG        -42  44   8\n",
       "lParaCin     -6  48  -8\n",
       "raParaCin    12  48  20"
      ]
     },
     "execution_count": 54,
     "metadata": {},
     "output_type": "execute_result"
    }
   ],
   "source": [
    "df"
   ]
  }
 ],
 "metadata": {
  "kernelspec": {
   "display_name": "Python 2",
   "language": "python",
   "name": "python2"
  },
  "language_info": {
   "codemirror_mode": {
    "name": "ipython",
    "version": 2
   },
   "file_extension": ".py",
   "mimetype": "text/x-python",
   "name": "python",
   "nbconvert_exporter": "python",
   "pygments_lexer": "ipython2",
   "version": "2.7.9"
  }
 },
 "nbformat": 4,
 "nbformat_minor": 0
}
