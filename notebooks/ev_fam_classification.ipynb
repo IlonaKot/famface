{
 "cells": [
  {
   "cell_type": "code",
   "execution_count": null,
   "metadata": {
    "collapsed": true
   },
   "outputs": [],
   "source": [
    "import sys\n",
    "from os.path import join as pjoin"
   ]
  },
  {
   "cell_type": "code",
   "execution_count": null,
   "metadata": {
    "collapsed": true
   },
   "outputs": [],
   "source": [
    "from collections import defaultdict"
   ]
  },
  {
   "cell_type": "code",
   "execution_count": null,
   "metadata": {
    "collapsed": true
   },
   "outputs": [],
   "source": [
    "from itertools import chain"
   ]
  },
  {
   "cell_type": "code",
   "execution_count": null,
   "metadata": {
    "collapsed": true
   },
   "outputs": [],
   "source": [
    "paths = ['/home/contematto/github/PyMVPA/',\n",
    "        '/data/famface/openfmri/scripts']"
   ]
  },
  {
   "cell_type": "code",
   "execution_count": null,
   "metadata": {
    "collapsed": true
   },
   "outputs": [],
   "source": [
    "for p in paths:\n",
    "    if p not in sys.path:\n",
    "        sys.path.insert(1, p)"
   ]
  },
  {
   "cell_type": "code",
   "execution_count": null,
   "metadata": {
    "collapsed": true
   },
   "outputs": [],
   "source": [
    "from expdir import expdir\n",
    "fns = expdir()"
   ]
  },
  {
   "cell_type": "code",
   "execution_count": null,
   "metadata": {
    "collapsed": true
   },
   "outputs": [],
   "source": [
    "from mvpa2.suite import *"
   ]
  },
  {
   "cell_type": "code",
   "execution_count": null,
   "metadata": {
    "collapsed": false
   },
   "outputs": [],
   "source": [
    "# load union mask\n",
    "union_mask = fmri_dataset(fns.maskfn)\n",
    "# load v1v_mask\n",
    "v1v_mask = fmri_dataset('/data/famface/openfmri/ProbAtlas_v4/v1v_mh.nii.gz')"
   ]
  },
  {
   "cell_type": "code",
   "execution_count": null,
   "metadata": {
    "collapsed": true
   },
   "outputs": [],
   "source": [
    "def ev_mask_fn(which):\n",
    "    return '/data/famface/openfmri/ProbAtlas_v4/{0}_mh.nii.gz'.format(which)"
   ]
  },
  {
   "cell_type": "code",
   "execution_count": null,
   "metadata": {
    "collapsed": true
   },
   "outputs": [],
   "source": [
    "def load_mask(maskfn):\n",
    "    mask = fmri_dataset(maskfn)\n",
    "    mask_ = (union_mask.samples + mask.samples) == 2.\n",
    "    return mask_.flatten()"
   ]
  },
  {
   "cell_type": "code",
   "execution_count": null,
   "metadata": {
    "collapsed": true
   },
   "outputs": [],
   "source": [
    "# Setup permutation routines\n",
    "def get_unique_combs(nsub):\n",
    "    # assumes there are two superordinate categories, \n",
    "    # and that nsub is the total number of subordinate categories,\n",
    "    # and that nsub is even\n",
    "    combs = list(combinations(range(nsub), nsub/2))\n",
    "    unique_combs = set()\n",
    "    for c1, c2 in zip(combs, combs[::-1]):\n",
    "        unique_combs.add(tuple(sorted((c1, c2))))\n",
    "    return sorted(unique_combs)\n",
    "\n",
    "def flatten(listOfLists):\n",
    "    \"Flatten one level of nesting\"\n",
    "    return list(chain.from_iterable(listOfLists))"
   ]
  },
  {
   "cell_type": "code",
   "execution_count": null,
   "metadata": {
    "collapsed": true
   },
   "outputs": [],
   "source": [
    "def permute_conditions(ds, permute=0):\n",
    "    \"\"\"Permute the conditions in ds maintaining the hierarchical structure\n",
    "    of the problem. Permute is the permutation number with max permute = 34.\n",
    "    Permute = 0 corresponds to the identity permutation\n",
    "    \n",
    "    If it finds condition_orig in ds.sa, uses that as original condition \n",
    "    to permute\"\"\"\n",
    "    perm = get_unique_combs(8)[permute]\n",
    "    perm = flatten(perm)\n",
    "    unique_conds = np.unique(ds.sa.condition)\n",
    "    mapperm = dict()\n",
    "    if 'condition_orig' in ds.sa:\n",
    "        ds.sa['condition'] = ds.sa.condition_orig.copy()\n",
    "    else:\n",
    "        ds.sa['condition_orig'] = ds.sa.condition.copy()\n",
    "    for i, p in enumerate(perm):\n",
    "        mapperm[unique_conds[i]] = unique_conds[p]\n",
    "    for i in range(ds.nsamples):\n",
    "        this_cond = ds.sa.condition[i]\n",
    "        ds.sa.condition[i] = mapperm[this_cond]\n",
    "    print(\"USING PERMUTATION {0}\".format(mapperm))"
   ]
  },
  {
   "cell_type": "code",
   "execution_count": null,
   "metadata": {
    "collapsed": true
   },
   "outputs": [],
   "source": [
    "rois = ['v1v', 'v1d', \n",
    "        'v2v', 'v2d', \n",
    "        'v3v', 'v3d',\n",
    "        'v1', \n",
    "        'v2', \n",
    "        'v3',\n",
    "        'v1+v2',\n",
    "        'v1+v2+v3',\n",
    "       ]"
   ]
  },
  {
   "cell_type": "code",
   "execution_count": null,
   "metadata": {
    "collapsed": false
   },
   "outputs": [],
   "source": [
    "mask_roi = {roi: load_mask(ev_mask_fn(roi)) for roi in rois}"
   ]
  },
  {
   "cell_type": "code",
   "execution_count": null,
   "metadata": {
    "collapsed": false
   },
   "outputs": [],
   "source": [
    "for roi in rois:\n",
    "    print('ROI {0}: {1:6d} voxels'.format(roi, mask_roi[roi].sum()))"
   ]
  },
  {
   "cell_type": "code",
   "execution_count": null,
   "metadata": {
    "collapsed": true
   },
   "outputs": [],
   "source": [
    "def prepare_dataset(subnr, mask=None):\n",
    "    ds = h5load(fns.betafn(subnr))\n",
    "    if mask is not None:\n",
    "        ds = ds[:, mask]\n",
    "    ds = ds[ds.sa.condition != 'self', :]\n",
    "    zscore(ds, chunks_attr='chunks', dtype='float32')\n",
    "    \n",
    "    return ds"
   ]
  },
  {
   "cell_type": "code",
   "execution_count": null,
   "metadata": {
    "collapsed": false
   },
   "outputs": [],
   "source": [
    "clf = LinearCSVMC()\n",
    "\n",
    "# feature selection helpers\n",
    "fselector = FractionTailSelector(.1,  # select top 10% features\n",
    "                                 tail='upper',\n",
    "                                 mode='select', sort=False)\n",
    "sbfs = SensitivityBasedFeatureSelection(OneWayAnova(), fselector,\n",
    "                                        enable_ca=['sensitivities'])\n",
    "# create classifier with automatic feature selection\n",
    "fsclf = FeatureSelectionClassifier(clf, sbfs)"
   ]
  },
  {
   "cell_type": "code",
   "execution_count": null,
   "metadata": {
    "collapsed": true
   },
   "outputs": [],
   "source": [
    "partitioner = FactorialPartitioner(NFoldPartitioner(attr='condition'),\n",
    "                                   attr='targets')"
   ]
  },
  {
   "cell_type": "code",
   "execution_count": null,
   "metadata": {
    "collapsed": true
   },
   "outputs": [],
   "source": [
    "cv_anova = CrossValidation(fsclf, partitioner,\n",
    "                     errorfx=lambda p, t: np.mean(p == t),\n",
    "                     #enable_ca=['stats'],\n",
    "                     #postproc=mean_sample()\n",
    "                     )"
   ]
  },
  {
   "cell_type": "code",
   "execution_count": null,
   "metadata": {
    "collapsed": true
   },
   "outputs": [],
   "source": [
    "df_acc_roi = pd.DataFrame({'subid': [], \n",
    "                           'roi': [], \n",
    "                           'fold':[], \n",
    "                           'acc': [],\n",
    "                           'permutation': []})"
   ]
  },
  {
   "cell_type": "code",
   "execution_count": null,
   "metadata": {
    "collapsed": false
   },
   "outputs": [],
   "source": [
    "for isub in range(1, 34):\n",
    "    print(\"Running for subject {0}\".format(isub))\n",
    "    ds = prepare_dataset(isub)\n",
    "    for iperm in range(35):  # iperm = 0 is the identity permutation\n",
    "        permute_conditions(ds, permute=iperm)\n",
    "        # set up targets\n",
    "        ds.sa['familiarity'] = ['familiar' if 'friend' in a\n",
    "                                else 'control'\n",
    "                                for a in ds.sa.condition]\n",
    "        ds.sa['targets'] = ds.sa['familiarity']\n",
    "        for roi in rois:\n",
    "            ds_ = ds[:, mask_roi[roi]]\n",
    "            print('    Running on ROI {0}'.format(roi))\n",
    "            acc_roi = cv_anova(ds_).samples.flatten()\n",
    "\n",
    "            nfolds = len(acc_roi)\n",
    "            tmp_df = pd.DataFrame(\n",
    "                {'subid': ['sub{0:03d}'.format(isub)] * nfolds,\n",
    "                 'roi': [roi] * nfolds,\n",
    "                 'fold': range(1, nfolds+1),\n",
    "                 'acc': acc_roi,\n",
    "                 'permutation': [iperm] * nfolds})\n",
    "            df_acc_roi = pd.concat((df_acc_roi, tmp_df))"
   ]
  },
  {
   "cell_type": "code",
   "execution_count": null,
   "metadata": {
    "collapsed": true
   },
   "outputs": [],
   "source": [
    "df_ev.to_csv('ev-roi_acc.csv', index=False)"
   ]
  }
 ],
 "metadata": {
  "kernelspec": {
   "display_name": "Python 2",
   "language": "python",
   "name": "python2"
  },
  "language_info": {
   "codemirror_mode": {
    "name": "ipython",
    "version": 2
   },
   "file_extension": ".py",
   "mimetype": "text/x-python",
   "name": "python",
   "nbconvert_exporter": "python",
   "pygments_lexer": "ipython2",
   "version": "2.7.9"
  }
 },
 "nbformat": 4,
 "nbformat_minor": 0
}
